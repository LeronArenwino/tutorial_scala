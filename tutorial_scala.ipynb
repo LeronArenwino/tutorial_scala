{
 "cells": [
  {
   "cell_type": "markdown",
   "id": "1028f291",
   "metadata": {},
   "source": [
    "# Tutorial Scala"
   ]
  },
  {
   "cell_type": "markdown",
   "id": "c72bf090",
   "metadata": {},
   "source": [
    "###### Integrantes\n",
    "Dueñas Caicedo Francisco Sebastian, Moreno Mora Juan Diego y Tinjaca Reyes Oscar Julian"
   ]
  },
  {
   "cell_type": "markdown",
   "id": "a141e47f",
   "metadata": {},
   "source": [
    "## Primeros pasos\n"
   ]
  },
  {
   "cell_type": "markdown",
   "id": "ea47224c",
   "metadata": {},
   "source": [
    "## Tour por el lenguaje"
   ]
  },
  {
   "cell_type": "markdown",
   "id": "4ad32606",
   "metadata": {},
   "source": [
    "## Particularidades del lenguaje"
   ]
  },
  {
   "cell_type": "markdown",
   "id": "5c8bcfc9",
   "metadata": {},
   "source": [
    "## Ejemplos\n",
    "\n",
    "### Básicos\n",
    "\n",
    "### Intermedios\n",
    "\n",
    "### Avanzados"
   ]
  },
  {
   "cell_type": "code",
   "execution_count": null,
   "id": "d8ebf1ef",
   "metadata": {},
   "outputs": [],
   "source": []
  }
 ],
 "metadata": {
  "kernelspec": {
   "display_name": "spylon-kernel",
   "language": "scala",
   "name": "spylon-kernel"
  },
  "language_info": {
   "codemirror_mode": "text/x-scala",
   "file_extension": ".scala",
   "help_links": [
    {
     "text": "MetaKernel Magics",
     "url": "https://metakernel.readthedocs.io/en/latest/source/README.html"
    }
   ],
   "mimetype": "text/x-scala",
   "name": "scala",
   "pygments_lexer": "scala",
   "version": "0.4.1"
  }
 },
 "nbformat": 4,
 "nbformat_minor": 5
}
